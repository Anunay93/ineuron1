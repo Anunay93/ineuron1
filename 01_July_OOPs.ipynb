{
 "cells": [
  {
   "cell_type": "code",
   "execution_count": null,
   "id": "06a14970",
   "metadata": {},
   "outputs": [],
   "source": [
    "1. What is the primary goal of Object-Oriented Programming (OOP)?\n",
    "\n",
    "Answer:- OOP aims to represent real-world entities, such as objects, as software objects with properties (attributes) and behaviors (methods) that can interact with each other."
   ]
  },
  {
   "cell_type": "code",
   "execution_count": null,
   "id": "998b7e4a",
   "metadata": {},
   "outputs": [],
   "source": [
    "2. What is an object in Python?\n",
    "ANS: objects are the fundamental building blocks of the language. Everything in Python is an object. An object is a self-contained entity that has both data (attributes) and functions (methods) that operate on that data. Objects are instances of classes, which are like blueprints or templates defining the structure and behavior of the objects."
   ]
  },
  {
   "cell_type": "code",
   "execution_count": null,
   "id": "703aaa3e",
   "metadata": {},
   "outputs": [],
   "source": [
    "3. What is a class in Python?\n",
    "Ans: A class acts as a user-defined data type, allowing you to encapsulate data (attributes) and functionality (methods) within a single entity"
   ]
  },
  {
   "cell_type": "code",
   "execution_count": null,
   "id": "d7a57783",
   "metadata": {},
   "outputs": [],
   "source": [
    "4. What are attributes and methods in a class?\n",
    "\n",
    "class Rectangle:\n",
    "    def __init__(self, width, height):  #this is an attribute\n",
    "        self.width = width\n",
    "        self.height = height\n",
    "    def calculate_area(self):  # this is methods\n",
    "        return self.width * self.height"
   ]
  },
  {
   "cell_type": "code",
   "execution_count": null,
   "id": "be246464",
   "metadata": {},
   "outputs": [],
   "source": [
    "5. What is the difference between class variables and instance variables in Python?"
   ]
  },
  {
   "cell_type": "code",
   "execution_count": 2,
   "id": "ab27d51d",
   "metadata": {},
   "outputs": [
    {
     "name": "stdout",
     "output_type": "stream",
     "text": [
      "this is radius: 5\n",
      "3.14\n"
     ]
    }
   ],
   "source": [
    "class Circle:\n",
    "    pi = 3.14  # This is a class variable\n",
    "    #Class variables are accessed using the class name, not the instance name, \n",
    "    #although they can also be accessed through instances.\n",
    "\n",
    "\n",
    "    def __init__(self, radius):\n",
    "        self.radius = radius  # This is an instance variable\n",
    "\n",
    "    def display(self):\n",
    "        print(f\"this is radius: {self.radius}\")\n",
    "\n",
    "\n",
    "obj = Circle(5)\n",
    "obj.display()\n",
    "print(obj.pi)"
   ]
  },
  {
   "cell_type": "code",
   "execution_count": null,
   "id": "bba92314",
   "metadata": {},
   "outputs": [],
   "source": [
    "6. What is the purpose of the self parameter in Python class methods?\n",
    "\n",
    "Ans:The purpose of the self parameter is to: you can access and modify the instance variables (attributes) of the object within the method.\n",
    "\n",
    "Call Other Instance Methods: Inside a method, you can call other instance methods using self.method_name().\n",
    "\n",
    "Differentiate Between Class and Local Variables: It helps Python distinguish between instance variables (bound to the object) and local variables (bound to the method's scope)."
   ]
  },
  {
   "cell_type": "code",
   "execution_count": null,
   "id": "eefcf13b",
   "metadata": {},
   "outputs": [],
   "source": [
    "7. For a library management system, you have to design the \"Book\" class with OOP\n",
    "principles in mind. The “Book” class will have following attributes:\n",
    "a. title: Represents the title of the book.\n",
    "b. author: Represents the author(s) of the book.\n",
    "c. isbn: Represents the ISBN (International Standard Book Number) of the book.\n",
    "d. publication_year: Represents the year of publication of the book.\n",
    "e. available_copies: Represents the number of copies available for checkout.\n",
    "The class will also include the following methods:\n",
    "a. check_out(self): Decrements the available copies by one if there are copies\n",
    "available for checkout.\n",
    "b. return_book(self): Increments the available copies by one when a book is\n",
    "returned.\n",
    "c. display_book_info(self): Displays the information about the book, including its\n",
    "attributes and the number of available copies."
   ]
  },
  {
   "cell_type": "code",
   "execution_count": 47,
   "id": "d11f25e8",
   "metadata": {},
   "outputs": [],
   "source": [
    "class Book:\n",
    "    def __init__(self, title, author, isbn, publication_year, available_copies):\n",
    "        self.title = title\n",
    "        self.author = author\n",
    "        self.isbn = isbn\n",
    "        self.publication_year = publication_year\n",
    "        self.available_copies = available_copies\n",
    "        \n",
    "    def check_out(self):\n",
    "        if self.available_copies > 0:\n",
    "            self.available_copies -= 1\n",
    "            return True\n",
    "        else:\n",
    "            return False\n",
    "\n",
    "    def return_book(self):\n",
    "        self.available_copies += 1\n",
    "    \n",
    "    def display_book_info(self):\n",
    "        print(\"Title:\", self.title)\n",
    "        print(\"Author(s):\", self.author)\n",
    "        print(\"ISBN:\", self.isbn)\n",
    "        print(\"Publication Year:\", self.publication_year)\n",
    "        print(\"Available Copies:\", self.available_copies)"
   ]
  },
  {
   "cell_type": "code",
   "execution_count": 48,
   "id": "19d78155",
   "metadata": {},
   "outputs": [
    {
     "name": "stdout",
     "output_type": "stream",
     "text": [
      "Title: Python Crash Course\n",
      "Author(s): Eric Matthes\n",
      "ISBN: 9781593276034\n",
      "Publication Year: 2015\n",
      "Available Copies: 5\n"
     ]
    }
   ],
   "source": [
    "book1=Book(\"Python Crash Course\", \"Eric Matthes\", \"9781593276034\", 2015, 5)\n",
    "book1.display_book_info()"
   ]
  },
  {
   "cell_type": "code",
   "execution_count": 49,
   "id": "c9838a88",
   "metadata": {},
   "outputs": [
    {
     "name": "stdout",
     "output_type": "stream",
     "text": [
      "Title: Python Crash Course\n",
      "Author(s): Eric Matthes\n",
      "ISBN: 9781593276034\n",
      "Publication Year: 2015\n",
      "Available Copies: 4\n"
     ]
    }
   ],
   "source": [
    "book1.check_out()\n",
    "book1.display_book_info()\n",
    "    "
   ]
  },
  {
   "cell_type": "code",
   "execution_count": 50,
   "id": "a54901e3",
   "metadata": {},
   "outputs": [
    {
     "name": "stdout",
     "output_type": "stream",
     "text": [
      "Title: Python Crash Course\n",
      "Author(s): Eric Matthes\n",
      "ISBN: 9781593276034\n",
      "Publication Year: 2015\n",
      "Available Copies: 5\n"
     ]
    }
   ],
   "source": [
    "book1.return_book()\n",
    "book1.display_book_info() "
   ]
  },
  {
   "cell_type": "code",
   "execution_count": null,
   "id": "f10da1e5",
   "metadata": {},
   "outputs": [],
   "source": [
    "8. For a ticket booking system, you have to design the \"Ticket\" class with OOP\n",
    "principles in mind. The “Ticket” class should have the following attributes:\n",
    "a. ticket_id: Represents the unique identifier for the ticket.\n",
    "b. event_name: Represents the name of the event.\n",
    "c. event_date: Represents the date of the event.\n",
    "d. venue: Represents the venue of the event.\n",
    "e. seat_number: Represents the seat number associated with the ticket.\n",
    "f. price: Represents the price of the ticket.\n",
    "g. is_reserved: Represents the reservation status of the ticket.\n",
    "The class also includes the following methods:\n",
    "a. reserve_ticket(self): Marks the ticket as reserved if it is not already reserved.\n",
    "b. cancel_reservation(self): Cancels the reservation of the ticket if it is already\n",
    "reserved.\n",
    "c. display_ticket_info(self): Displays the information about the ticket, including its\n",
    "attributes and reservation status."
   ]
  },
  {
   "cell_type": "code",
   "execution_count": 64,
   "id": "f7f1cca5",
   "metadata": {},
   "outputs": [],
   "source": [
    "class Ticket:\n",
    "    def __init__(self, ticket_id, event_name, event_date, venue, seat_number, price):\n",
    "        self.ticket_id = ticket_id\n",
    "        self.event_name = event_name\n",
    "        self.event_date = event_date\n",
    "        self.venue = venue\n",
    "        self.seat_number = seat_number\n",
    "        self.price = price\n",
    "        self.is_reserved = False\n",
    "\n",
    "    def reserve_ticket(self):\n",
    "        if not self.is_reserved:\n",
    "            self.is_reserved = True\n",
    "            print(f\"Ticket {self.ticket_id} is now reserved.\")\n",
    "        else:\n",
    "            print(f\"Ticket {self.ticket_id} is already reserved.\")\n",
    "\n",
    "    def cancel_reservation(self):\n",
    "        if self.is_reserved:\n",
    "            self.is_reserved = False\n",
    "            print(f\"Reservation for Ticket {self.ticket_id} is canceled.\")\n",
    "        else:\n",
    "            print(f\"Ticket {self.ticket_id} is not reserved yet.\")\n",
    "\n",
    "    def display_ticket_info(self):\n",
    "        print(\"Ticket ID:\", self.ticket_id)\n",
    "        print(\"Event Name:\", self.event_name)\n",
    "        print(\"Event Date:\", self.event_date)\n",
    "        print(\"Venue:\", self.venue)\n",
    "        print(\"Seat Number:\", self.seat_number)\n",
    "        print(\"Price:\", self.price)\n",
    "        print(\"Reservation Status:\", \"Reserved\" if self.is_reserved else \"Not Reserved\")"
   ]
  },
  {
   "cell_type": "code",
   "execution_count": 65,
   "id": "f23fa7fd",
   "metadata": {},
   "outputs": [
    {
     "name": "stdout",
     "output_type": "stream",
     "text": [
      "Ticket ID: 101\n",
      "Event Name: Concert Night\n",
      "Event Date: 2023-08-15\n",
      "Venue: City Stadium\n",
      "Seat Number: A10\n",
      "Price: 50\n",
      "Reservation Status: Not Reserved\n"
     ]
    }
   ],
   "source": [
    "ticket1 = Ticket(101, \"Concert Night\", \"2023-08-15\", \"City Stadium\", \"A10\", 50)\n",
    "ticket1.display_ticket_info()"
   ]
  },
  {
   "cell_type": "code",
   "execution_count": 66,
   "id": "55b134d6",
   "metadata": {},
   "outputs": [
    {
     "name": "stdout",
     "output_type": "stream",
     "text": [
      "Ticket 101 is now reserved.\n"
     ]
    }
   ],
   "source": [
    "ticket1.reserve_ticket()"
   ]
  },
  {
   "cell_type": "code",
   "execution_count": 67,
   "id": "b5a42b72",
   "metadata": {},
   "outputs": [
    {
     "name": "stdout",
     "output_type": "stream",
     "text": [
      "Reservation for Ticket 101 is canceled.\n"
     ]
    }
   ],
   "source": [
    "ticket1.cancel_reservation()"
   ]
  },
  {
   "cell_type": "code",
   "execution_count": null,
   "id": "1299ecbf",
   "metadata": {},
   "outputs": [],
   "source": [
    "9. You are creating a shopping cart for an e-commerce website. Using OOP to model\n",
    "the \"ShoppingCart\" functionality the class should contain following attributes and\n",
    "methods:\n",
    "a. items: Represents the list of items in the shopping cart.\n",
    "The class also includes the following methods:\n",
    "\n",
    "a. add_item(self, item): Adds an item to the shopping cart by appending it to the\n",
    "list of items.\n",
    "b. remove_item(self, item): Removes an item from the shopping cart if it exists in\n",
    "the list.\n",
    "c. view_cart(self): Displays the items currently present in the shopping cart.\n",
    "d. clear_cart(self): Clears all items from the shopping cart by reassigning an\n",
    "empty list to the items attribute."
   ]
  },
  {
   "cell_type": "code",
   "execution_count": 68,
   "id": "a24fcddc",
   "metadata": {},
   "outputs": [],
   "source": [
    "class ShoppingCart:\n",
    "    def __init__(self):\n",
    "        self.items = []\n",
    "\n",
    "    def add_item(self, item):\n",
    "        self.items.append(item)\n",
    "        print(f\"{item} added to the shopping cart.\")\n",
    "\n",
    "    def remove_item(self, item):\n",
    "        if item in self.items:\n",
    "            self.items.remove(item)\n",
    "            print(f\"{item} removed from the shopping cart.\")\n",
    "        else:\n",
    "            print(f\"{item} is not in the shopping cart.\")\n",
    "\n",
    "    def view_cart(self):\n",
    "        if not self.items:\n",
    "            print(\"The shopping cart is empty.\")\n",
    "        else:\n",
    "            print(\"Items in the shopping cart:\")\n",
    "            for item in self.items:\n",
    "                print(item)\n",
    "\n",
    "    def clear_cart(self):\n",
    "        self.items = []\n",
    "        print(\"The shopping cart is cleared.\")"
   ]
  },
  {
   "cell_type": "code",
   "execution_count": 69,
   "id": "94e6323a",
   "metadata": {},
   "outputs": [
    {
     "name": "stdout",
     "output_type": "stream",
     "text": [
      "Laptop added to the shopping cart.\n",
      "Phone added to the shopping cart.\n"
     ]
    }
   ],
   "source": [
    "cart = ShoppingCart()\n",
    "cart.add_item(\"Laptop\")\n",
    "cart.add_item(\"Phone\")"
   ]
  },
  {
   "cell_type": "code",
   "execution_count": 70,
   "id": "cb339a2e",
   "metadata": {},
   "outputs": [
    {
     "name": "stdout",
     "output_type": "stream",
     "text": [
      "Items in the shopping cart:\n",
      "Laptop\n",
      "Phone\n"
     ]
    }
   ],
   "source": [
    "cart.view_cart()"
   ]
  },
  {
   "cell_type": "code",
   "execution_count": 71,
   "id": "2cbd18fc",
   "metadata": {},
   "outputs": [
    {
     "name": "stdout",
     "output_type": "stream",
     "text": [
      "Laptop removed from the shopping cart.\n"
     ]
    }
   ],
   "source": [
    "cart.remove_item(\"Laptop\")"
   ]
  },
  {
   "cell_type": "code",
   "execution_count": 72,
   "id": "4786cf70",
   "metadata": {},
   "outputs": [
    {
     "name": "stdout",
     "output_type": "stream",
     "text": [
      "The shopping cart is cleared.\n"
     ]
    }
   ],
   "source": [
    "cart.clear_cart()"
   ]
  },
  {
   "cell_type": "code",
   "execution_count": 73,
   "id": "a591db1a",
   "metadata": {},
   "outputs": [
    {
     "name": "stdout",
     "output_type": "stream",
     "text": [
      "The shopping cart is empty.\n"
     ]
    }
   ],
   "source": [
    "cart.view_cart()"
   ]
  },
  {
   "cell_type": "code",
   "execution_count": null,
   "id": "00d26990",
   "metadata": {},
   "outputs": [],
   "source": [
    "10. Imagine a school management system. You have to design the \"Student\" class using\n",
    "OOP concepts.The “Student” class has the following attributes:\n",
    "a. name: Represents the name of the student.\n",
    "b. age: Represents the age of the student.\n",
    "c. grade: Represents the grade or class of the student.\n",
    "d. student_id: Represents the unique identifier for the student.\n",
    "e. attendance: Represents the attendance record of the student.\n",
    "The class should also include the following methods:\n",
    "a. update_attendance(self, date, status): Updates the attendance record of the\n",
    "student for a given date with the provided status (e.g., present or absent).\n",
    "b. get_attendance(self): Returns the attendance record of the student.\n",
    "c. get_average_attendance(self): Calculates and returns the average\n",
    "attendance percentage of the student based on their attendance record."
   ]
  },
  {
   "cell_type": "code",
   "execution_count": 78,
   "id": "7adfc608",
   "metadata": {},
   "outputs": [],
   "source": [
    "class Student:\n",
    "    def __init__(self, name, age, grade, student_id):\n",
    "        self.name=name\n",
    "        self.age=age\n",
    "        self.grade=grade\n",
    "        self.student_id=student_id\n",
    "        self.attendance={}\n",
    "        \n",
    "    def update_attendance(self, date, status):\n",
    "        self.attendance[date]=status\n",
    "        print(f\"Attendance updated for {self.name} on {date}. Status: {status}\")\n",
    "        \n",
    "    def get_attendance(self):\n",
    "        return self.attendance\n",
    "    \n",
    "    def get_average_attendance(self):\n",
    "        total_days = len(self.attendance)\n",
    "        if total_days == 0:\n",
    "            return 0.0\n",
    "        \n",
    "        present_days = sum(1 for status in self.attendance.values() if status == \"present\")\n",
    "        average_attendance = (present_days / total_days) * 100\n",
    "        return average_attendance\n",
    "        "
   ]
  },
  {
   "cell_type": "code",
   "execution_count": 79,
   "id": "9fff68dc",
   "metadata": {},
   "outputs": [
    {
     "name": "stdout",
     "output_type": "stream",
     "text": [
      "Attendance updated for Alice on 2023-07-15. Status: present\n",
      "Attendance updated for Alice on 2023-07-16. Status: absent\n"
     ]
    }
   ],
   "source": [
    "student1 = Student(\"Alice\", 16, \"10th\", \"S1001\")\n",
    "student1.update_attendance(\"2023-07-15\", \"present\")\n",
    "student1.update_attendance(\"2023-07-16\", \"absent\")"
   ]
  },
  {
   "cell_type": "code",
   "execution_count": 80,
   "id": "0f26af0d",
   "metadata": {},
   "outputs": [
    {
     "name": "stdout",
     "output_type": "stream",
     "text": [
      "Attendance Record: {'2023-07-15': 'present', '2023-07-16': 'absent'}\n"
     ]
    }
   ],
   "source": [
    "attendance_record = student1.get_attendance()\n",
    "print(\"Attendance Record:\", attendance_record)"
   ]
  },
  {
   "cell_type": "code",
   "execution_count": 81,
   "id": "2ac7e242",
   "metadata": {},
   "outputs": [
    {
     "name": "stdout",
     "output_type": "stream",
     "text": [
      "Average Attendance: 50.00%\n"
     ]
    }
   ],
   "source": [
    "average_attendance = student1.get_average_attendance()\n",
    "print(f\"Average Attendance: {average_attendance:.2f}%\")"
   ]
  },
  {
   "cell_type": "code",
   "execution_count": null,
   "id": "8e3f8b48",
   "metadata": {},
   "outputs": [],
   "source": []
  }
 ],
 "metadata": {
  "kernelspec": {
   "display_name": "Python 3 (ipykernel)",
   "language": "python",
   "name": "python3"
  },
  "language_info": {
   "codemirror_mode": {
    "name": "ipython",
    "version": 3
   },
   "file_extension": ".py",
   "mimetype": "text/x-python",
   "name": "python",
   "nbconvert_exporter": "python",
   "pygments_lexer": "ipython3",
   "version": "3.10.9"
  }
 },
 "nbformat": 4,
 "nbformat_minor": 5
}
