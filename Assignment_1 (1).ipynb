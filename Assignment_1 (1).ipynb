{
 "cells": [
  {
   "cell_type": "code",
   "execution_count": 1,
   "id": "fc73a51d-68bb-4e8b-850a-e05ee0699e86",
   "metadata": {},
   "outputs": [],
   "source": [
    "# 1. In the below elements which of them are values or an expression? eg:- values can be integer or string and expressions will be mathematical operators.\n",
    "#*\n",
    "#&\n",
    "#hello\n",
    "#-87.8\n",
    "#-\n",
    "#/\n",
    "#+\n",
    "#6\n"
   ]
  },
  {
   "cell_type": "code",
   "execution_count": null,
   "id": "592d03f5-3bd0-4022-8425-0ce311c0e85f",
   "metadata": {},
   "outputs": [],
   "source": [
    "values are hello, - 87.8, 6\n",
    "Expression are * & - / +"
   ]
  },
  {
   "cell_type": "code",
   "execution_count": null,
   "id": "939543a8-d66d-4d04-91fb-70d049657d29",
   "metadata": {},
   "outputs": [],
   "source": [
    "2. What is the difference between string and variable?\n",
    "Anuswer - String is a type of data, while a variable is a container which is used to store data an different type of data."
   ]
  },
  {
   "cell_type": "code",
   "execution_count": null,
   "id": "010fe142-ff30-4aff-bac6-cab58b84b07b",
   "metadata": {},
   "outputs": [],
   "source": [
    "3. Describe three different data types.\n",
    "Ans- \n",
    "1)Integer (int):\n",
    "\n",
    "The integer data type represents whole numbers, both positive and negative, without any fractional parts.\n",
    "Examples: -10, 0, 42, 1000, 987654321\n",
    "\n",
    "2)String:\n",
    "\n",
    "The string data type is used to represent sequences of characters. It can contain letters, numbers, symbols and whitespace.\n",
    "Examples: \"Hello, World!\", \"Python is awesome!\", \"12345\"\n",
    "\n",
    "3)Float (Floating-Point Number):\n",
    "\n",
    "The float data type is used to represent numbers with decimal points.\n",
    "Examples: 3.14, -0.5, 2.71828, 1000.12345\n"
   ]
  },
  {
   "cell_type": "code",
   "execution_count": null,
   "id": "20eac4f7-f035-43fc-b027-cb4ced57a73c",
   "metadata": {},
   "outputs": [],
   "source": [
    "4. What is an expression made up of? What do all expressions do?\n",
    "Ans:-\n",
    "An expression is a combination of values, variables, operators, and function calls that can be evaluated to produce a single value.\n",
    "Expressions are used to compute or derive values and are usually written to the right of an assignment operator (=) to assign the result to a variable."
   ]
  },
  {
   "cell_type": "code",
   "execution_count": null,
   "id": "c379abec-5908-4be0-b70d-8f2685343a05",
   "metadata": {},
   "outputs": [],
   "source": [
    "5. This assignment statements, like spam = 10. What is the difference between an\n",
    "expression and a statement?\n",
    "ans:-\n",
    "\n",
    "In programming, expressions and statements are fundamental building blocks, but they serve different purposes:\n",
    "\n",
    "Expression:\n",
    "\n",
    "An expression is a combination of values, variables, operators, and function calls that can be evaluated to produce a single value.\n",
    "Expressions are used to compute or derive values and are usually written to the right of an assignment operator (=) to assign the result to a variable.\n",
    "Examples of expressions:\n",
    " in above mention example, 10 is an expression which is in the right side of an operator.\n",
    "\n",
    "\n",
    "Statement:\n",
    "\n",
    "A statement is a complete line of code that performs an action. It is an instruction that the computer can execute.\n",
    "Statements are used to control the flow of the program, define functions, declare variables, and perform various operations.\n",
    "Examples of statements:\n",
    "Assignment statement: spam = 10 is a statement"
   ]
  },
  {
   "cell_type": "code",
   "execution_count": null,
   "id": "098d4c2b-bf4d-4455-b51e-c2e2a6c9cf59",
   "metadata": {},
   "outputs": [],
   "source": [
    "6. After running the following code, what does the variable bacon contain?\n",
    "bacon = 22\n",
    "bacon + 1"
   ]
  },
  {
   "cell_type": "code",
   "execution_count": 7,
   "id": "82841a34-d307-423c-a4fb-8d0661d7c942",
   "metadata": {},
   "outputs": [
    {
     "data": {
      "text/plain": [
       "23"
      ]
     },
     "execution_count": 7,
     "metadata": {},
     "output_type": "execute_result"
    }
   ],
   "source": [
    "#answer\n",
    "bacon = 22\n",
    "bacon + 1"
   ]
  },
  {
   "cell_type": "code",
   "execution_count": null,
   "id": "13e1e0b8-6897-42c0-a977-af5000c2b2d4",
   "metadata": {},
   "outputs": [],
   "source": [
    "7. What should the values of the following two terms be?\n",
    "\"spam\" + \"spamspam\"\n",
    "\"spam\"* 3"
   ]
  },
  {
   "cell_type": "code",
   "execution_count": 10,
   "id": "762ad8c1-a352-4b4d-9687-9ce659a4b11b",
   "metadata": {},
   "outputs": [
    {
     "data": {
      "text/plain": [
       "'spamspamspam'"
      ]
     },
     "execution_count": 10,
     "metadata": {},
     "output_type": "execute_result"
    }
   ],
   "source": [
    "\"spam\" + \"spamspam\""
   ]
  },
  {
   "cell_type": "code",
   "execution_count": 9,
   "id": "f40ae09e-2653-45f5-9679-ebbde23c3d59",
   "metadata": {},
   "outputs": [
    {
     "data": {
      "text/plain": [
       "'spamspamspam'"
      ]
     },
     "execution_count": 9,
     "metadata": {},
     "output_type": "execute_result"
    }
   ],
   "source": [
    "\"spam\"* 3"
   ]
  },
  {
   "cell_type": "code",
   "execution_count": null,
   "id": "d14cf116-287b-461d-afc3-b9f3b71ecabd",
   "metadata": {},
   "outputs": [],
   "source": [
    "8. Why is eggs a valid variable name while 100 is invalid?\n",
    "\n",
    "Answer:- because a variable can only start with letter and underscore, it cannot start wit any integer and operator."
   ]
  },
  {
   "cell_type": "code",
   "execution_count": null,
   "id": "4c17fcea-abf0-4ab3-928a-a1f82c6a1e7e",
   "metadata": {},
   "outputs": [],
   "source": [
    "9. What three functions can be used to get the integer, floating-point number or string version of a value?\n",
    "Answer:_\n",
    "\n",
    "we use int() to get an integer value\n",
    "float() for floating value\n",
    "str() for string value"
   ]
  },
  {
   "cell_type": "code",
   "execution_count": null,
   "id": "c7db5246-16ac-4932-a471-310e6f396c5c",
   "metadata": {},
   "outputs": [],
   "source": [
    "10. Why does this expression cause an error? How can you fix it?\n",
    "I have eaten + 99 + burritos."
   ]
  },
  {
   "cell_type": "code",
   "execution_count": null,
   "id": "5cedd206-8d84-4530-8948-1de908363388",
   "metadata": {},
   "outputs": [],
   "source": [
    "\"I have eaten\" + 99 + \"burritos\" #this will give error because we can only perform mathematical fuction with two different data type."
   ]
  },
  {
   "cell_type": "code",
   "execution_count": 16,
   "id": "8e4db98a-9afe-4e7f-b683-6a85d66a7d36",
   "metadata": {},
   "outputs": [
    {
     "data": {
      "text/plain": [
       "'I have eaten 99 burritos'"
      ]
     },
     "execution_count": 16,
     "metadata": {},
     "output_type": "execute_result"
    }
   ],
   "source": [
    "\"I have eaten \" + \"99\" + \" burritos\""
   ]
  },
  {
   "cell_type": "code",
   "execution_count": null,
   "id": "422a0736-d7ee-41d8-bbd7-fc44c0c70918",
   "metadata": {},
   "outputs": [],
   "source": []
  }
 ],
 "metadata": {
  "kernelspec": {
   "display_name": "Python 3 (ipykernel)",
   "language": "python",
   "name": "python3"
  },
  "language_info": {
   "codemirror_mode": {
    "name": "ipython",
    "version": 3
   },
   "file_extension": ".py",
   "mimetype": "text/x-python",
   "name": "python",
   "nbconvert_exporter": "python",
   "pygments_lexer": "ipython3",
   "version": "3.10.6"
  }
 },
 "nbformat": 4,
 "nbformat_minor": 5
}
